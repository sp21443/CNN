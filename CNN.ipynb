{
  "nbformat": 4,
  "nbformat_minor": 0,
  "metadata": {
    "colab": {
      "name": "CNN.ipynb",
      "provenance": [],
      "collapsed_sections": []
    },
    "kernelspec": {
      "name": "python3",
      "display_name": "Python 3"
    },
    "language_info": {
      "name": "python"
    },
    "accelerator": "GPU"
  },
  "cells": [
    {
      "cell_type": "code",
      "execution_count": 20,
      "metadata": {
        "id": "GA6f_dtq449q"
      },
      "outputs": [],
      "source": [
        "from keras.datasets import mnist\n",
        "from tensorflow import keras\n",
        "from tensorflow.keras import layers\n",
        "from tensorflow.keras.models import Sequential\n",
        "import numpy as np\n",
        "from keras.datasets import cifar10 "
      ]
    },
    {
      "cell_type": "code",
      "source": [
        "(train_images0, train_labels0), (test_images0, test_labels0) = mnist.load_data()"
      ],
      "metadata": {
        "id": "ba5fmB9q5AEy"
      },
      "execution_count": 21,
      "outputs": []
    },
    {
      "cell_type": "code",
      "source": [
        "train_labels = train_labels0.reshape(-1)\n",
        "test_labels = test_labels0.reshape(-1)"
      ],
      "metadata": {
        "id": "D3Ap0TIF86M4"
      },
      "execution_count": 22,
      "outputs": []
    },
    {
      "cell_type": "code",
      "source": [
        "test_images = (test_images0 / 255.0).astype(np.float32) \n",
        "train_images = (train_images0 / 255.0).astype(np.float32) \n",
        "\n",
        "if len(train_images.shape) == 3:  # images must be rank-4 tensors [number_of_images, dimension1, dimension2, number_of_channels]\n",
        "    # add a single channel to these black-and-white images\n",
        "    train_images=train_images.reshape(list(train_images.shape)+[1])\n",
        "    test_images=test_images.reshape(list(test_images.shape)+[1])\n",
        "    print(\"Reshaped images from \", train_images0.shape, \"to\", train_images.shape, \"so that 'channel' dimension exists\")\n",
        "\n",
        "num_classification_categories = train_labels.max() + 1"
      ],
      "metadata": {
        "colab": {
          "base_uri": "https://localhost:8080/"
        },
        "id": "ZrUvrcec-eOe",
        "outputId": "9c3fcb2b-571a-42c3-b3e6-fd4ba17c4b61"
      },
      "execution_count": 23,
      "outputs": [
        {
          "output_type": "stream",
          "name": "stdout",
          "text": [
            "Reshaped images from  (60000, 28, 28) to (60000, 28, 28, 1) so that 'channel' dimension exists\n"
          ]
        }
      ]
    },
    {
      "cell_type": "code",
      "source": [
        "model = Sequential([\n",
        "      layers.Conv2D(6, kernel_size=(3,3), padding='same', activation='relu', input_shape=(28,28,1)),\n",
        "      layers.MaxPooling2D(),\n",
        "      layers.Conv2D(3, 3, padding='same', activation='relu'),\n",
        "      layers.MaxPooling2D(),\n",
        "      layers.Flatten(),\n",
        "      layers.Dense(128, activation='relu'),\n",
        "      layers.Dense(10, activation='softmax')\n",
        "])"
      ],
      "metadata": {
        "id": "WQctDLtk5bY5"
      },
      "execution_count": 24,
      "outputs": []
    },
    {
      "cell_type": "code",
      "source": [
        "model.compile(optimizer='adam', loss='sparse_categorical_crossentropy', metrics=['accuracy'])"
      ],
      "metadata": {
        "id": "HoI_bw1O74xI"
      },
      "execution_count": 25,
      "outputs": []
    },
    {
      "cell_type": "code",
      "source": [
        "model.summary()"
      ],
      "metadata": {
        "colab": {
          "base_uri": "https://localhost:8080/"
        },
        "id": "l3cCqZPB8ddp",
        "outputId": "28134e65-f8a3-4f7f-fd50-fd33d3fa04c7"
      },
      "execution_count": 26,
      "outputs": [
        {
          "output_type": "stream",
          "name": "stdout",
          "text": [
            "Model: \"sequential_2\"\n",
            "_________________________________________________________________\n",
            " Layer (type)                Output Shape              Param #   \n",
            "=================================================================\n",
            " conv2d_6 (Conv2D)           (None, 28, 28, 6)         60        \n",
            "                                                                 \n",
            " max_pooling2d_4 (MaxPooling  (None, 14, 14, 6)        0         \n",
            " 2D)                                                             \n",
            "                                                                 \n",
            " conv2d_7 (Conv2D)           (None, 14, 14, 3)         165       \n",
            "                                                                 \n",
            " max_pooling2d_5 (MaxPooling  (None, 7, 7, 3)          0         \n",
            " 2D)                                                             \n",
            "                                                                 \n",
            " flatten_2 (Flatten)         (None, 147)               0         \n",
            "                                                                 \n",
            " dense_4 (Dense)             (None, 128)               18944     \n",
            "                                                                 \n",
            " dense_5 (Dense)             (None, 10)                1290      \n",
            "                                                                 \n",
            "=================================================================\n",
            "Total params: 20,459\n",
            "Trainable params: 20,459\n",
            "Non-trainable params: 0\n",
            "_________________________________________________________________\n"
          ]
        }
      ]
    },
    {
      "cell_type": "code",
      "source": [
        "history = model.fit(train_images, train_labels,\n",
        "                batch_size=128,\n",
        "                epochs=5,\n",
        "                validation_data=(test_images, test_labels))"
      ],
      "metadata": {
        "colab": {
          "base_uri": "https://localhost:8080/"
        },
        "id": "GWeESd-98ezV",
        "outputId": "dd66aba7-6f3f-4c5c-8d17-4a01eaba50b4"
      },
      "execution_count": 27,
      "outputs": [
        {
          "output_type": "stream",
          "name": "stdout",
          "text": [
            "Epoch 1/5\n",
            "469/469 [==============================] - 2s 4ms/step - loss: 0.5065 - accuracy: 0.8559 - val_loss: 0.1963 - val_accuracy: 0.9408\n",
            "Epoch 2/5\n",
            "469/469 [==============================] - 2s 4ms/step - loss: 0.1578 - accuracy: 0.9524 - val_loss: 0.1231 - val_accuracy: 0.9614\n",
            "Epoch 3/5\n",
            "469/469 [==============================] - 2s 4ms/step - loss: 0.1086 - accuracy: 0.9659 - val_loss: 0.0823 - val_accuracy: 0.9748\n",
            "Epoch 4/5\n",
            "469/469 [==============================] - 2s 4ms/step - loss: 0.0855 - accuracy: 0.9737 - val_loss: 0.0728 - val_accuracy: 0.9772\n",
            "Epoch 5/5\n",
            "469/469 [==============================] - 2s 4ms/step - loss: 0.0723 - accuracy: 0.9775 - val_loss: 0.0622 - val_accuracy: 0.9802\n"
          ]
        }
      ]
    },
    {
      "cell_type": "code",
      "source": [
        "keras.models.save_model(model, \"Model1mnist.h5\", save_format='h5')"
      ],
      "metadata": {
        "id": "94zYDcu9_tVu"
      },
      "execution_count": 28,
      "outputs": []
    },
    {
      "cell_type": "code",
      "source": [
        "(train_images0, train_labels0), (test_images0, test_labels0) = cifar10.load_data()\n",
        "\n",
        "train_labels = train_labels0.reshape(-1)\n",
        "test_labels = test_labels0.reshape(-1)\n",
        "\n",
        "test_images = (test_images0 / 255.0).astype(np.float32) \n",
        "train_images = (train_images0 / 255.0).astype(np.float32) \n",
        "\n",
        "if len(train_images.shape) == 3:  # images must be rank-4 tensors [number_of_images, dimension1, dimension2, number_of_channels]\n",
        "    # add a single channel to these black-and-white images\n",
        "    train_images=train_images.reshape(list(train_images.shape)+[1])\n",
        "    test_images=test_images.reshape(list(test_images.shape)+[1])\n",
        "    print(\"Reshaped images from \", train_images0.shape, \"to\", train_images.shape, \"so that 'channel' dimension exists\")\n",
        "\n",
        "num_classification_categories = train_labels.max() + 1"
      ],
      "metadata": {
        "id": "jPjXE3WiBAFB"
      },
      "execution_count": 29,
      "outputs": []
    },
    {
      "cell_type": "code",
      "source": [
        "model = Sequential([\n",
        "      layers.Conv2D(16, kernel_size=(3,3), padding='same', activation='relu', input_shape=(32,32,3)),\n",
        "      layers.Conv2D(32, 3, padding='same', activation='relu'),\n",
        "      layers.MaxPooling2D(2,2),\n",
        "      layers.Dropout(0.2),\n",
        "      layers.Conv2D(64, 3, padding='same', activation='relu'),\n",
        "      layers.Conv2D(64, 3, padding='same', activation='relu'),\n",
        "      layers.MaxPooling2D(2,2),\n",
        "      layers.Dropout(0.2),\n",
        "      layers.Flatten(),\n",
        "      layers.Dense(128, activation='relu'),\n",
        "      layers.Dense(10, activation='softmax')\n",
        "])"
      ],
      "metadata": {
        "id": "E4Sg_cUNBybx"
      },
      "execution_count": 30,
      "outputs": []
    },
    {
      "cell_type": "code",
      "source": [
        "model.compile(optimizer='adam', loss='sparse_categorical_crossentropy', metrics=['accuracy'])\n",
        "model.summary()"
      ],
      "metadata": {
        "colab": {
          "base_uri": "https://localhost:8080/"
        },
        "id": "ZwzIaPbQCg_a",
        "outputId": "9a14d4cb-8dd2-4907-97ec-ad1607b84f54"
      },
      "execution_count": 31,
      "outputs": [
        {
          "output_type": "stream",
          "name": "stdout",
          "text": [
            "Model: \"sequential_3\"\n",
            "_________________________________________________________________\n",
            " Layer (type)                Output Shape              Param #   \n",
            "=================================================================\n",
            " conv2d_8 (Conv2D)           (None, 32, 32, 16)        448       \n",
            "                                                                 \n",
            " conv2d_9 (Conv2D)           (None, 32, 32, 32)        4640      \n",
            "                                                                 \n",
            " max_pooling2d_6 (MaxPooling  (None, 16, 16, 32)       0         \n",
            " 2D)                                                             \n",
            "                                                                 \n",
            " dropout_2 (Dropout)         (None, 16, 16, 32)        0         \n",
            "                                                                 \n",
            " conv2d_10 (Conv2D)          (None, 16, 16, 64)        18496     \n",
            "                                                                 \n",
            " conv2d_11 (Conv2D)          (None, 16, 16, 64)        36928     \n",
            "                                                                 \n",
            " max_pooling2d_7 (MaxPooling  (None, 8, 8, 64)         0         \n",
            " 2D)                                                             \n",
            "                                                                 \n",
            " dropout_3 (Dropout)         (None, 8, 8, 64)          0         \n",
            "                                                                 \n",
            " flatten_3 (Flatten)         (None, 4096)              0         \n",
            "                                                                 \n",
            " dense_6 (Dense)             (None, 128)               524416    \n",
            "                                                                 \n",
            " dense_7 (Dense)             (None, 10)                1290      \n",
            "                                                                 \n",
            "=================================================================\n",
            "Total params: 586,218\n",
            "Trainable params: 586,218\n",
            "Non-trainable params: 0\n",
            "_________________________________________________________________\n"
          ]
        }
      ]
    },
    {
      "cell_type": "code",
      "source": [
        "history = model.fit(train_images, train_labels,\n",
        "                batch_size=128,\n",
        "                epochs=5,\n",
        "                validation_data=(test_images, test_labels))"
      ],
      "metadata": {
        "colab": {
          "base_uri": "https://localhost:8080/"
        },
        "id": "722WVdLbDJrK",
        "outputId": "2aa16a82-fac4-48d3-d6f6-7a7f5300f416"
      },
      "execution_count": 32,
      "outputs": [
        {
          "output_type": "stream",
          "name": "stdout",
          "text": [
            "Epoch 1/5\n",
            "391/391 [==============================] - 5s 11ms/step - loss: 1.5781 - accuracy: 0.4259 - val_loss: 1.2574 - val_accuracy: 0.5538\n",
            "Epoch 2/5\n",
            "391/391 [==============================] - 4s 10ms/step - loss: 1.1351 - accuracy: 0.5992 - val_loss: 0.9785 - val_accuracy: 0.6564\n",
            "Epoch 3/5\n",
            "391/391 [==============================] - 4s 10ms/step - loss: 0.9522 - accuracy: 0.6648 - val_loss: 0.8862 - val_accuracy: 0.6812\n",
            "Epoch 4/5\n",
            "391/391 [==============================] - 4s 10ms/step - loss: 0.8423 - accuracy: 0.7067 - val_loss: 0.8498 - val_accuracy: 0.7000\n",
            "Epoch 5/5\n",
            "391/391 [==============================] - 4s 10ms/step - loss: 0.7600 - accuracy: 0.7337 - val_loss: 0.7681 - val_accuracy: 0.7374\n"
          ]
        }
      ]
    },
    {
      "cell_type": "code",
      "source": [
        "keras.models.save_model(model, \"Model1cifar10.h5\", save_format='h5')"
      ],
      "metadata": {
        "id": "Uzx3t5HtDoSO"
      },
      "execution_count": 33,
      "outputs": []
    }
  ]
}